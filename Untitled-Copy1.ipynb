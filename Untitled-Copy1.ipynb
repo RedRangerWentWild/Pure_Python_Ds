{
 "cells": [
  {
   "cell_type": "code",
   "execution_count": 12,
   "id": "6b097494-1b07-4e1b-a459-06da25f7b679",
   "metadata": {},
   "outputs": [
    {
     "name": "stdout",
     "output_type": "stream",
     "text": [
      "users and there connections\n",
      "\n",
      "Amit(ID:1)-Friends:[2, 3]-Liked pages:[101]\n",
      "Priya(ID:2)-Friends:[1, 4]-Liked pages:[102]\n",
      "Rahul(ID:3)-Friends:[1]-Liked pages:[101, 103]\n",
      "Sara(ID:4)-Friends:[2]-Liked pages:[104]\n",
      "Page id=101 and page name=Python Developers\n",
      "Page id=102 and page name=Data Science Enthusiasts\n",
      "Page id=103 and page name=AI & ML Community\n",
      "Page id=104 and page name=Web Dev Hub\n"
     ]
    }
   ],
   "source": [
    "import json\n",
    "def load_name(filename):\n",
    "    with open(filename,\"r\")as file:\n",
    "        data=json.load(file)\n",
    "    return data   \n",
    "def display_users(data):\n",
    " print(\"users and there connections\\n\")\n",
    " for user in data[\"users\"]:\n",
    "    print(f\"{user['name']}(ID:{user['id']})-Friends:{user['friends']}-Liked pages:{user['liked_pages']}\")\n",
    " for page in data[\"pages\"]:\n",
    "    print(f\"Page id={page['id']} and page name={page['name']}\")\n",
    "data=load_name(\"Data.json\")\n",
    "display_users(data)"
   ]
  },
  {
   "cell_type": "code",
   "execution_count": 18,
   "id": "25099f50-bfb4-4f36-b407-ba187494b507",
   "metadata": {
    "editable": true,
    "slideshow": {
     "slide_type": ""
    },
    "tags": []
   },
   "outputs": [
    {
     "name": "stdout",
     "output_type": "stream",
     "text": [
      "Data cleaned successfully!\n"
     ]
    }
   ],
   "source": [
    "def clean_data(data):\n",
    "    #remove the ones without any name\n",
    "    data[\"users\"]=[user for user in data[\"users\"] if user[\"name\"].strip()]\n",
    "    #remove duplicate friends\n",
    "    for user in data[\"users\"]:\n",
    "     user[\"friends\"]=list(set(user[\"friends\"]))\n",
    "    # Remove the inactive users\n",
    "    data[\"users\"]=[user for user in data[\"users\"] if user[\"friends\"] or user[\"liked_pages\"]]\n",
    "    #remove duplictate pages\n",
    "    upage={}\n",
    "    for page in data[\"pages\"]:\n",
    "        upage[page[\"id\"]]=page\n",
    "    data[\"pages\"]=list(upage.values())\n",
    "    return data\n",
    "data = json.load(open(\"Data2.json\"))\n",
    "data = clean_data(data)\n",
    "json.dump(data, open(\"cleaned_Data2.json\", \"w\"), indent=4)\n",
    "print(\"Data cleaned successfully!\")"
   ]
  },
  {
   "cell_type": "code",
   "execution_count": 16,
   "id": "2c5ae06e-b38b-497d-907d-70b358b0e73b",
   "metadata": {},
   "outputs": [
    {
     "name": "stdout",
     "output_type": "stream",
     "text": [
      "People You May Know for User 10: [11, 6, 4, 7, 14, 15, 18, 1, 2, 3, 13, 22]\n"
     ]
    }
   ],
   "source": [
    "import json\n",
    " \n",
    "def load_data(filename):\n",
    "    with open(filename, \"r\") as file:\n",
    "        return json.load(file)\n",
    " \n",
    "def find_people_you_may_know(user_id, data):\n",
    "    user_friends = {}\n",
    "    for user in data[\"users\"]:\n",
    "        user_friends[user[\"id\"]] = set(user[\"friends\"])\n",
    "    \n",
    "    if user_id not in user_friends:\n",
    "        return []\n",
    "    \n",
    "    direct_friends = user_friends[user_id]\n",
    "    suggestions = {}\n",
    "    \n",
    "    for friend in direct_friends:\n",
    "        for friend in direct_friends:\n",
    "        # For all friends of friend\n",
    "         for mutual in user_friends[friend]:\n",
    "            # If mutual id is not the same user and not already a direct friend of user\n",
    "            if mutual != user_id and mutual not in direct_friends:\n",
    "                # Count mutual friends\n",
    "                suggestions[mutual] = suggestions.get(mutual, 0) + 1\n",
    "    \n",
    "    sorted_suggestions = sorted(suggestions.items(), key=lambda x: x[1], reverse=True)\n",
    "    return [user_id for user_id, _ in sorted_suggestions]\n",
    " \n",
    "# Load data\n",
    "data = load_data(\"data3.json\")\n",
    "user_id = 10 # Example: Finding suggestions for Amit\n",
    "recommendations = find_people_you_may_know(user_id, data)\n",
    "print(f\"People You May Know for User {user_id}: {recommendations}\")"
   ]
  },
  {
   "cell_type": "code",
   "execution_count": 37,
   "id": "d5240b23-feaa-4776-b72d-8e5b84f0095c",
   "metadata": {},
   "outputs": [
    {
     "name": "stdout",
     "output_type": "stream",
     "text": [
      "Pages You Might Like for User 1: [103, 105, 107, 104, 106, 108, 109, 110, 111, 112, 113, 114, 115, 116, 117, 118, 119, 120, 121, 122, 123, 124, 125, 126, 127]\n"
     ]
    }
   ],
   "source": [
    "def find_pages_you_might_like(data,user_id):\n",
    "    user_pages={}\n",
    "    for user in data[\"users\"]:\n",
    "         user_pages[user[\"id\"]] = set(user[\"liked_pages\"])\n",
    "    \n",
    "    if user_id not in user_pages:\n",
    "        return []\n",
    "    \n",
    "    user_liked_pages = user_pages[user_id]\n",
    "    sugg = {}    \n",
    "    for other, pages in user_pages.items():\n",
    "        if other != user_id:\n",
    "            shared=user_liked_pages.intersection(pages)\n",
    "            for page in pages:\n",
    "                if page not in user_liked_pages:\n",
    "                    sugg[page]=sugg.get(page,0)+len(shared)\n",
    "    sorted_pages=sorted(sugg.items(),key=lambda x:x[1],reverse=True)\n",
    "    return [page_id for page_id, _ in sorted_pages]\n",
    "data = load_data(\"data3.json\")\n",
    "user_id = 1  # Example: Finding recommendations for Amit\n",
    "page_recommendations = find_pages_you_might_like(data,user_id)\n",
    "print(f\"Pages You Might Like for User {user_id}: {page_recommendations}\")"
   ]
  },
  {
   "cell_type": "code",
   "execution_count": null,
   "id": "c583ab38-ee61-43bd-b664-293d951d4690",
   "metadata": {},
   "outputs": [],
   "source": []
  }
 ],
 "metadata": {
  "kernelspec": {
   "display_name": "Python 3 (ipykernel)",
   "language": "python",
   "name": "python3"
  },
  "language_info": {
   "codemirror_mode": {
    "name": "ipython",
    "version": 3
   },
   "file_extension": ".py",
   "mimetype": "text/x-python",
   "name": "python",
   "nbconvert_exporter": "python",
   "pygments_lexer": "ipython3",
   "version": "3.13.5"
  }
 },
 "nbformat": 4,
 "nbformat_minor": 5
}
